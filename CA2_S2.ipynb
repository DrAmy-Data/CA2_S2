{
 "cells": [
  {
   "cell_type": "code",
   "execution_count": null,
   "id": "01de4ca3",
   "metadata": {},
   "outputs": [],
   "source": [
    "# Testing the Sentiment analysis script I made from CA2_S1"
   ]
  },
  {
   "cell_type": "code",
   "execution_count": 1,
   "id": "85693f7c",
   "metadata": {},
   "outputs": [],
   "source": [
    "# Sentiment analysis\n",
    "# Import Libraries\n",
    "from textblob import TextBlob\n",
    "import sys\n",
    "import tweepy\n",
    "import matplotlib.pyplot as plt\n",
    "import pandas as pd\n",
    "import numpy as np\n",
    "import os\n",
    "import nltk\n",
    "#import pycountry\n",
    "import re\n",
    "import string\n",
    "#from wordcloud import WordCloud, STOPWORDS\n",
    "from PIL import Image\n",
    "from nltk.sentiment.vader import SentimentIntensityAnalyzer\n",
    "#from langdetect import detect\n",
    "from nltk.stem import SnowballStemmer\n",
    "from nltk.sentiment.vader import SentimentIntensityAnalyzer\n",
    "from sklearn.feature_extraction.text import CountVectorizer"
   ]
  },
  {
   "cell_type": "code",
   "execution_count": 2,
   "id": "1a9eab1c",
   "metadata": {},
   "outputs": [],
   "source": [
    "# Authentication\n",
    "consumerKey = 'EdteVNJhNXfu6ziho6DY0OPMu'\n",
    "consumerSecret = 'xZCwqQPFejSL31rQ7S5fZYbLCcmzd47WUCfl2u48l8uE0DbyHz'\n",
    "accessToken = '2864240182-VUa8rIR3gPXARqbnXIgd3RofCdyzp9d1zQjaY6j'\n",
    "accessTokenSecret = 'hvzDpkaltkzXjpMqZnvDLdPQMej0sxavQpuhKdzbfTPtV'\n",
    "auth = tweepy.OAuthHandler(consumerKey, consumerSecret)\n",
    "auth.set_access_token(accessToken, accessTokenSecret)\n",
    "api = tweepy.API(auth)"
   ]
  },
  {
   "cell_type": "code",
   "execution_count": 3,
   "id": "e7dd520e",
   "metadata": {},
   "outputs": [
    {
     "name": "stderr",
     "output_type": "stream",
     "text": [
      "[nltk_data] Downloading package vader_lexicon to\n",
      "[nltk_data]     C:\\Users\\acooke\\AppData\\Roaming\\nltk_data...\n",
      "[nltk_data]   Package vader_lexicon is already up-to-date!\n"
     ]
    },
    {
     "data": {
      "text/plain": [
       "True"
      ]
     },
     "execution_count": 3,
     "metadata": {},
     "output_type": "execute_result"
    }
   ],
   "source": [
    "#api.search_tweets()\n",
    "import nltk\n",
    "nltk.download('vader_lexicon')"
   ]
  },
  {
   "cell_type": "code",
   "execution_count": 4,
   "id": "5019bbca",
   "metadata": {},
   "outputs": [
    {
     "name": "stdout",
     "output_type": "stream",
     "text": [
      "neutral = 327\n",
      "positive = 413\n",
      "negative = 260\n"
     ]
    }
   ],
   "source": [
    "#Sentiment Analysis\n",
    "# source https://towardsdatascience.com/step-by-step-twitter-sentiment-analysis-in-python-d6f650ade58d\n",
    "\n",
    "# \n",
    "def percentage(part,whole):\n",
    " return 100 * float(part)/float(whole)\n",
    "#keyword = input(\"Cow's milk\")\n",
    "keyword = \"Wind Farms\"\n",
    "#noOfTweet = int(input (\"10\"))\n",
    "#noOfTweet = int(input (\"100\"))\n",
    "noOfTweet = 1000\n",
    "tweets = tweepy.Cursor(api.search_tweets, q=keyword).items(noOfTweet)\n",
    "positive = 0\n",
    "negative = 0\n",
    "neutral = 0\n",
    "polarity = 0\n",
    "tweet_list = []\n",
    "neutral_list = []\n",
    "negative_list = []\n",
    "positive_list = []\n",
    "\n",
    "counter = 0\n",
    "\n",
    "for tweet in tweets:\n",
    " counter = counter + 1\n",
    " #print(tweet.text)\n",
    " tweet_list.append(tweet.text)\n",
    " analysis = TextBlob(tweet.text)\n",
    " score = SentimentIntensityAnalyzer().polarity_scores(tweet.text)\n",
    " neg = score['neg']\n",
    " neu = score['neu']\n",
    " pos = score['pos']\n",
    " comp = score['compound']\n",
    " polarity += analysis.sentiment.polarity\n",
    " if neg > pos:\n",
    "     negative_list.append(tweet.text)\n",
    "     negative += 1\n",
    " elif pos > neg:\n",
    "         positive_list.append(tweet.text)\n",
    "         positive += 1\n",
    " \n",
    " elif pos == neg:\n",
    "         neutral_list.append(tweet.text)\n",
    "         neutral += 1\n",
    "    \n",
    "print(\"neutral = \" + str(neutral))\n",
    "print(\"positive = \" + str(positive))\n",
    "print(\"negative = \" + str(negative))"
   ]
  },
  {
   "cell_type": "code",
   "execution_count": 5,
   "id": "e0164263",
   "metadata": {},
   "outputs": [
    {
     "name": "stdout",
     "output_type": "stream",
     "text": [
      "total number:  1000\n",
      "positive number:  413\n",
      "negative number:  260\n",
      "neutral number:  327\n"
     ]
    }
   ],
   "source": [
    "#Number of Tweets (Total, Positive, Negative, Neutral)\n",
    "tweet_list = pd.DataFrame(tweet_list)\n",
    "neutral_list = pd.DataFrame(neutral_list)\n",
    "negative_list = pd.DataFrame(negative_list)\n",
    "positive_list = pd.DataFrame(positive_list)\n",
    "print(\"total number: \",len(tweet_list))\n",
    "print(\"positive number: \",len(positive_list))\n",
    "print(\"negative number: \", len(negative_list))\n",
    "print(\"neutral number: \",len(neutral_list))"
   ]
  },
  {
   "cell_type": "code",
   "execution_count": 7,
   "id": "5c3b9e10",
   "metadata": {},
   "outputs": [
    {
     "data": {
      "image/png": "[encoded data removed]",
      "text/plain": [
       "<Figure size 432x288 with 1 Axes>"
      ]
     },
     "metadata": {},
     "output_type": "display_data"
    }
   ],
   "source": [
    "import matplotlib.pyplot as plt\n",
    "import numpy as np\n",
    "\n",
    "y = np.array([len(positive_list), len(negative_list), len(neutral_list)])\n",
    "mylabels = [\"Positive\", \"Negative\", \"Neutral\"]\n",
    "\n",
    "plt.pie(y, labels = mylabels)\n",
    "plt.legend(title = \"'Wind Farm' Tweets Sentiment Analysis\", loc=\"upper left\", bbox_to_anchor=(0.85,1.025), )\n",
    "plt.subplots_adjust(left=0.1, bottom=0.1, right=0.75)\n",
    "plt.show() "
   ]
  },
  {
   "cell_type": "code",
   "execution_count": null,
   "id": "a77c3902",
   "metadata": {},
   "outputs": [],
   "source": []
  }
 ],
 "metadata": {
  "kernelspec": {
   "display_name": "Python 3 (ipykernel)",
   "language": "python",
   "name": "python3"
  },
  "language_info": {
   "codemirror_mode": {
    "name": "ipython",
    "version": 3
   },
   "file_extension": ".py",
   "mimetype": "text/x-python",
   "name": "python",
   "nbconvert_exporter": "python",
   "pygments_lexer": "ipython3",
   "version": "3.10.6"
  }
 },
 "nbformat": 4,
 "nbformat_minor": 5
}
